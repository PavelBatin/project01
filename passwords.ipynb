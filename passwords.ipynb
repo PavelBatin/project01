{
  "nbformat": 4,
  "nbformat_minor": 0,
  "metadata": {
    "colab": {
      "provenance": [],
      "authorship_tag": "ABX9TyO/QnqDDYyVPbpZs5xeLxus",
      "include_colab_link": true
    },
    "kernelspec": {
      "name": "python3",
      "display_name": "Python 3"
    },
    "language_info": {
      "name": "python"
    }
  },
  "cells": [
    {
      "cell_type": "markdown",
      "metadata": {
        "id": "view-in-github",
        "colab_type": "text"
      },
      "source": [
        "<a href=\"https://colab.research.google.com/github/PavelBatin/project01/blob/main/passwords.ipynb\" target=\"_parent\"><img src=\"https://colab.research.google.com/assets/colab-badge.svg\" alt=\"Open In Colab\"/></a>"
      ]
    },
    {
      "cell_type": "code",
      "execution_count": 5,
      "metadata": {
        "colab": {
          "base_uri": "https://localhost:8080/"
        },
        "id": "Gv0Jlfj7gT5A",
        "outputId": "1810954e-3fea-4b78-d465-61fddce2178e"
      },
      "outputs": [
        {
          "output_type": "stream",
          "name": "stdout",
          "text": [
            "длина пароля: 10\n",
            "@\n",
            "@G\n",
            "@GN\n",
            "@GN8\n",
            "@GN8r\n",
            "@GN8rQ\n",
            "@GN8rQ#\n",
            "@GN8rQ#0\n",
            "@GN8rQ#0T\n",
            "@GN8rQ#0TX\n"
          ]
        }
      ],
      "source": [
        "import random\n",
        "chars = '+-/*!&$#?=@<>abcdefghijklnopqrstuvwxyzABCDEFGHIJKLMNOPQRSTUVWXYZ1234567890'\n",
        "lenght = input(\"длина пароля: \")\n",
        "password = ''\n",
        "try:\n",
        "  lenght = int(lenght)\n",
        "  for n in range(lenght):\n",
        "    password+= random.choice(chars)\n",
        "    print ( password)\n",
        "except ValueError:\n",
        "      print(\"Вы ввели не числовое значение!!!, пожалуйста, введите цифры\")"
      ]
    }
  ]
}