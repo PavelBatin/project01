{
  "nbformat": 4,
  "nbformat_minor": 0,
  "metadata": {
    "colab": {
      "provenance": [],
      "authorship_tag": "ABX9TyNaQuFfraal1Y1BcoA6b0Vo",
      "include_colab_link": true
    },
    "kernelspec": {
      "name": "python3",
      "display_name": "Python 3"
    },
    "language_info": {
      "name": "python"
    }
  },
  "cells": [
    {
      "cell_type": "markdown",
      "metadata": {
        "id": "view-in-github",
        "colab_type": "text"
      },
      "source": [
        "<a href=\"https://colab.research.google.com/github/PavelBatin/project01/blob/main/algoritmy.ipynb\" target=\"_parent\"><img src=\"https://colab.research.google.com/assets/colab-badge.svg\" alt=\"Open In Colab\"/></a>"
      ]
    },
    {
      "cell_type": "code",
      "execution_count": 54,
      "metadata": {
        "colab": {
          "base_uri": "https://localhost:8080/"
        },
        "id": "XmEWU803Pmqo",
        "outputId": "0a9a66fb-790e-4272-90a0-5f135f2915ab"
      },
      "outputs": [
        {
          "output_type": "stream",
          "name": "stdout",
          "text": [
            "[5]\n",
            "[5, 6]\n",
            "[5, 6, 5]\n",
            "[5, 6, 5, 4]\n",
            "сумма всех бросков:  4\n"
          ]
        }
      ],
      "source": [
        "import random\n",
        "k = 4\n",
        "y = []\n",
        "total = 0\n",
        "while k!=0:\n",
        "  x = random.randint(1,6)\n",
        "  k  -=1\n",
        "  y.append(x)\n",
        "  total +=1\n",
        "  print(y)\n",
        "\n",
        "print(\"сумма всех бросков: \",total)"
      ]
    },
    {
      "cell_type": "markdown",
      "source": [
        "z = random.uniform(1.5,2.7)\n",
        "print(z)"
      ],
      "metadata": {
        "id": "sOBtJvlUTi25"
      }
    }
  ]
}