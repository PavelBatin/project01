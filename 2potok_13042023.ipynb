{
  "nbformat": 4,
  "nbformat_minor": 0,
  "metadata": {
    "colab": {
      "provenance": [],
      "toc_visible": true,
      "authorship_tag": "ABX9TyNOGaMfKZgT47r30UD7Jnrf",
      "include_colab_link": true
    },
    "kernelspec": {
      "name": "python3",
      "display_name": "Python 3"
    },
    "language_info": {
      "name": "python"
    }
  },
  "cells": [
    {
      "cell_type": "markdown",
      "metadata": {
        "id": "view-in-github",
        "colab_type": "text"
      },
      "source": [
        "<a href=\"https://colab.research.google.com/github/PavelBatin/project01/blob/main/2potok_13042023.ipynb\" target=\"_parent\"><img src=\"https://colab.research.google.com/assets/colab-badge.svg\" alt=\"Open In Colab\"/></a>"
      ]
    },
    {
      "cell_type": "markdown",
      "source": [
        "Основы Pyton\n",
        "\n",
        "Типы данных\n"
      ],
      "metadata": {
        "id": "PoQ205mC0wgQ"
      }
    },
    {
      "cell_type": "code",
      "source": [
        "int\n",
        "float"
      ],
      "metadata": {
        "colab": {
          "base_uri": "https://localhost:8080/"
        },
        "id": "dJBqQNRw11Mj",
        "outputId": "3adfc3c0-afac-4e8f-bc48-163eaabfb815"
      },
      "execution_count": null,
      "outputs": [
        {
          "output_type": "execute_result",
          "data": {
            "text/plain": [
              "float"
            ]
          },
          "metadata": {},
          "execution_count": 5
        }
      ]
    },
    {
      "cell_type": "markdown",
      "source": [
        "Арифметические операции с числами"
      ],
      "metadata": {
        "id": "tcEaCxHq1y3D"
      }
    },
    {
      "cell_type": "code",
      "execution_count": null,
      "metadata": {
        "colab": {
          "base_uri": "https://localhost:8080/"
        },
        "id": "k4_KPBUgy3GU",
        "outputId": "82bc91ff-c97c-482f-be2e-361bf9a6ca13"
      },
      "outputs": [
        {
          "output_type": "stream",
          "name": "stdout",
          "text": [
            "4\n",
            "0\n",
            "1.0\n"
          ]
        }
      ],
      "source": [
        "# сложение\n",
        "x= 2 + 2\n",
        "# вычитание\n",
        "y = 2-2\n",
        "# деление\n",
        "z = 2/2\n",
        "# вывод строки\n",
        "print(x)\n",
        "print(y)\n",
        "print(z)"
      ]
    },
    {
      "cell_type": "markdown",
      "source": [
        "функция\n"
      ],
      "metadata": {
        "id": "EklLz2EX2_FJ"
      }
    },
    {
      "cell_type": "code",
      "source": [
        "empty_lst = list()\n",
        "empty_lst = []\n",
        "\n",
        "primes = [1,5,10,50,24,-3]\n",
        "shop_lst = ['Картофель ', ' Горошек ',' Рис ', 'Хлеб']\n",
        "fruits = [' яблоко',' Апельсин',' клубника']\n",
        "print('пункт а:')\n",
        "print(shop_lst[0]+shop_lst[1]+' рыба, '+shop_lst[2]+shop_lst[3])\n",
        "# punktb\n",
        "\n",
        "\n",
        "print('пункт b:')\n",
        "print(shop_lst[0]+shop_lst[1]+' рыба, '+shop_lst[2]+shop_lst[3]+fruits[0]+fruits[1]+fruits[2])\n",
        "print('punkt c:')\n",
        "print(shop_lst[1:])\n",
        "# индексация списков\n",
        "len(primes)\n",
        "len(shop_lst)\n",
        "len(fruits)\n",
        "print('Номер хлеба в списке: ',shop_lst.index('Хлеб')+1)\n",
        "print('Номер апельсина в списке: ',shop_lst.index('Хлеб')+fruits.index(' Апельсин'))\n",
        "population = [\n",
        "    ['Moscow', 345124],\n",
        "     ['SPB', 489141],\n",
        "     ['Kazan', 974124],\n",
        "     ['Novgorod', 124562],\n",
        "     ]\n",
        "print('население города', population[2][0], 'равно', population[2][1])"
      ],
      "metadata": {
        "colab": {
          "base_uri": "https://localhost:8080/"
        },
        "id": "G-qmFoHh3BTQ",
        "outputId": "60791849-4089-4447-e5cb-a4a0df19d744"
      },
      "execution_count": 100,
      "outputs": [
        {
          "output_type": "stream",
          "name": "stdout",
          "text": [
            "пункт а:\n",
            "Картофель  Горошек  рыба,  Рис Хлеб\n",
            "пункт b:\n",
            "Картофель  Горошек  рыба,  Рис Хлеб яблоко Апельсин клубника\n",
            "punkt c:\n",
            "[' Горошек ', ' Рис ', 'Хлеб']\n",
            "Номер хлеба в списке:  4\n",
            "Номер апельсина в списке:  4\n",
            "население города Kazan равно 974124\n"
          ]
        }
      ]
    }
  ]
}